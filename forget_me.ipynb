{
 "cells": [
  {
   "cell_type": "markdown",
   "metadata": {},
   "source": [
    "<div style=\"text-align:center\"><img src=\"https://hackmd.io/_uploads/SJrFgVFlke.jpg\" width=\"800\"/></div>\n",
    "<br>\n",
    "\n",
    "<div style=\"text-align: center; font-size: 250%; font-weight: 500;\">\n",
    "\n",
    "[遺忘](https://www.youtube.com/watch?v=HMbnKcuO30E)\n",
    "</div>\n",
    "\n",
    "---\n",
    "\n",
    "<div style=\"font-family: 'Inconsolata'; color: #9ACD32;\">\n",
    "<div style=\"font-size: 1200%; font-weight: 700; text-align: center;\">\n",
    "勿忘草\n",
    "</div>\n",
    "<br><br>\n",
    "<div style=\"font-size: 250%; font-weight: 500; color: #4D6619; text-align: center;\">\n",
    "Python記憶體管理的一鱗半爪\n",
    "</div>\n",
    "\n",
    "</div>"
   ]
  },
  {
   "cell_type": "code",
   "execution_count": 1,
   "metadata": {},
   "outputs": [
    {
     "data": {
      "application/javascript": "// 設定output文字顏色。\ndocument.styleSheets[0].addRule('body', 'color: #9ACD32 !important;')\n",
      "text/plain": [
       "<IPython.core.display.Javascript object>"
      ]
     },
     "metadata": {},
     "output_type": "display_data"
    }
   ],
   "source": [
    "%%javascript\n",
    "// 設定output文字顏色。\n",
    "document.styleSheets[0].addRule('body', 'color: #9ACD32 !important;')"
   ]
  },
  {
   "cell_type": "code",
   "execution_count": 2,
   "metadata": {},
   "outputs": [
    {
     "name": "stdout",
     "output_type": "stream",
     "text": [
      "Hello, world.\n"
     ]
    }
   ],
   "source": [
    "print('Hello, world.')"
   ]
  },
  {
   "cell_type": "markdown",
   "metadata": {},
   "source": [
    "<div style=\"font-size: 150%; font-weight: 500; color: #94A375;\">\n",
    "先看以下的程式片段\n",
    "</div>"
   ]
  },
  {
   "cell_type": "code",
   "execution_count": null,
   "metadata": {},
   "outputs": [],
   "source": [
    "from typing import Any\n",
    "\n",
    "def foo(values: list, value: Any) -> list:\n",
    "    values.append(5)      # in-place\n",
    "    values = [0, 9, 1]    # NOT in-place\n",
    "    return (values := [6, 8, 7])\n",
    "\n",
    "my_list = [2, 3, 4]\n",
    "_ = foo(my_list, 5)\n",
    "print(my_list)\n",
    "\n",
    "# A) [2, 3, 4]\n",
    "# B) [0, 9, 1]\n",
    "# C) [6, 8, 7]\n",
    "# D) [2, 3, 4, 5]\n",
    "# E) [2, 3, 4, 5, 6, 8, 7]\n",
    "# F) 以上皆非"
   ]
  },
  {
   "cell_type": "markdown",
   "metadata": {},
   "source": [
    "<div style=\"font-family: 'Inconsolata'; font-size: 120%; color:Silver;\">\n",
    "\n",
    "* 要了解這段code的輸出，我們要掌握以下Python的知識點：\n",
    "    1. mutable vs immutable objects\n",
    "    2. Python's memory management on objects\n",
    "    3. parameter passing principles in function calls\n",
    "* 還有時間我們就接著談談和本主題息息相關的`shallow copy`和`deep copy`。"
   ]
  },
  {
   "cell_type": "markdown",
   "metadata": {},
   "source": [
    "<div style=\"font-family: 'Inconsolata'; font-size: 120%; color:Silver;\">\n",
    "\n",
    "## Memory Management and Mutability\n",
    "\n",
    "* In Python, memory management and the behavior of objects are heavily influenced by whether an object is mutable or immutable. The distinction between mutable and immutable objects lies in how they are stored in memory and how references to these objects are managed.\n",
    "\n",
    "### Key Concepts\n",
    "* Mutable Objects: These are objects that can be modified after creation. Examples include `list`s, `dict`s, and `set`s.\n",
    "* Immutable Objects: These objects cannot be changed once they are created. Examples include `str`s, `tuple`s, and `int`s.\n",
    "\n",
    "### Memory Management and Object Referencing\n",
    "* When we assign a variable to an object, that variable stores a reference (or pointer) to the object’s memory location rather than the actual data itself. This reference is what connects a variable to its data in memory.\n",
    "* 筆者請即時畫圖示意。\n",
    "   * 畫圖時間\n",
    "* 再看以下程式："
   ]
  },
  {
   "cell_type": "markdown",
   "metadata": {},
   "source": [
    "<div style=\"font-family: 'Inconsolata'; font-size: 120%; color:Silver;\">"
   ]
  },
  {
   "cell_type": "code",
   "execution_count": null,
   "metadata": {},
   "outputs": [],
   "source": [
    "# mutable objects (「內容」可更改的物件)\n",
    "list1 = [1, 2, 3]\n",
    "list2 = list1  # assignment operation(賦值運算，將list1的reference賦與給list2)\n",
    "print(f'{list1=}    {list2=}')\n",
    "\n",
    "list1.append(9)      # mutation (modifies the list in-place)\n",
    "print(f'{list1=}    {list2=}')\n",
    "\n",
    "# variable: 變數   literal: 定數       constant: 常數\n",
    "list1 = [5, 6, 7]    # assignment (assign a list literal定數 to `list1`)\n",
    "print(f'{list1=}    {list2=}\\n')"
   ]
  },
  {
   "cell_type": "code",
   "execution_count": null,
   "metadata": {},
   "outputs": [],
   "source": [
    "# immutable objects\n",
    "str1 = 'abc'\n",
    "str2 = str1\n",
    "print(f'{str1=}    {str2=}')\n",
    "\n",
    "str1 = 'xyz'\n",
    "print(f'{str1=}    {str2=}')"
   ]
  },
  {
   "cell_type": "markdown",
   "metadata": {},
   "source": [
    "<div style=\"font-family: 'Inconsolata'; font-size: 120%; color:Silver;\">\n",
    "\n",
    "## Mutable Objects\n",
    "\n",
    "* Mutation:\n",
    "    ```\n",
    "    list1.append(9)      # mutation\n",
    "    ```\n",
    "    * The `append` method modifies the list <span style=\"color:yellow; font-weight: 600;\">in-place</span>. Since both `list1` and `list2` reference the same object, the change is reflected in both variables.\n",
    "* Assignment:\n",
    "\n",
    "    ```\n",
    "    list1 = [5, 6, 7]    # assignment\n",
    "    ```\n",
    "    * Here, `list1` is reassigned to a new list object `[5, 6, 7]`. This creates a new list in memory, and `list1` now points to this new list, while `list2` still references the original list `[1, 2, 3, 9]`.\n"
   ]
  },
  {
   "cell_type": "markdown",
   "metadata": {},
   "source": [
    "<div style=\"font-family: 'Inconsolata'; font-size: 120%; color:Silver;\">\n",
    "\n",
    "## Immutable Objects\n",
    "\n",
    "* Now, let’s look at the behavior of immutable objects with your string example:\n",
    "    ```\n",
    "    str1 = 'abc'\n",
    "    str2 = str1\n",
    "    ```\n",
    "* Assignment and Reference: `str1` is assigned to the string `'abc'`. When `str2` is set to `str1`, both variables point to the same string object in memory.\n",
    "    * output:\n",
    "        ```\n",
    "        str1='abc'    str2='abc'\n",
    "        ```\n",
    "* Reassignment (Not Modification):\n",
    "    ```\n",
    "    str1 = 'xyz'\n",
    "    print(f'{str1=}    {str2=}')\n",
    "    ```\n",
    "    * Since strings are immutable, any \"change\" to str1 results in the creation of a new string object. str1 is reassigned to 'xyz', but str2 still references the original string 'abc'. This reassignment does not modify the object itself but instead changes the reference held by str1.\n",
    "\n",
    "    * Output:\n",
    "        ```\n",
    "        str1='xyz'    str2='abc'\n",
    "        ```\n",
    "\n"
   ]
  },
  {
   "cell_type": "markdown",
   "metadata": {},
   "source": [
    "<div style=\"font-family: 'Inconsolata'; font-size: 120%; color:Silver;\">\n",
    "\n",
    "## Summary of Differences\n",
    "* Mutable Objects: Changes made to the object are reflected across all references to that object because they all point to the same memory location.\n",
    "* Immutable Objects: Any attempt to \"modify\" an immutable object results in the creation of a new object in memory. The reference of the variable (like str1 in this example) is updated to point to the new object, while other variables pointing to the original object (like str2) remain unaffected."
   ]
  },
  {
   "cell_type": "markdown",
   "metadata": {},
   "source": [
    "<div style=\"font-family: 'Inconsolata'; font-size: 120%; color:Silver;\">\n",
    "\n",
    "## Memory Implications\n",
    "Python manages memory by reference counting and garbage collection:\n",
    "\n",
    "* When mutable objects are modified in place, they retain the same memory address, conserving memory.\n",
    "* With immutable objects, each \"modification\" creates a new object. When no variable references the old object, it becomes eligible for garbage collection.\n",
    "\n",
    "Understanding these differences helps in managing memory efficiently and avoids unintended side effects, particularly when dealing with mutable objects in functions or larger programs."
   ]
  },
  {
   "cell_type": "markdown",
   "metadata": {},
   "source": [
    "<div style=\"font-family: 'Inconsolata'; font-size: 120%; color:Silver;\">\n",
    "\n",
    "* When we assign a variable to an object, that variable stores a reference (or pointer) to the object’s memory location rather than the actual data itself. This reference is what connects a variable to its data in memory.\n"
   ]
  },
  {
   "cell_type": "code",
   "execution_count": null,
   "metadata": {},
   "outputs": [],
   "source": [
    "print(f'literal: {id([1, 5, 3, 8])}')   # literal\n",
    "list1 = [1, 5, 3, 8]\n",
    "print(f'list1  : {id(list1)}')\n",
    "print(f'literal: {id([1, 5, 3, 8])}')\n",
    "list2 = list1\n",
    "print(f'list2  : {id(list2)}')\n",
    "print(f'literal: {id([1, 5, 3, 8])}')"
   ]
  },
  {
   "cell_type": "markdown",
   "metadata": {},
   "source": [
    "<div style=\"font-family: 'Inconsolata'; font-size: 120%; color:Silver;\">\n",
    "\n"
   ]
  },
  {
   "cell_type": "markdown",
   "metadata": {},
   "source": [
    "<div style=\"font-family: 'Inconsolata'; font-size: 120%; color:Silver;\">\n",
    "\n"
   ]
  },
  {
   "cell_type": "markdown",
   "metadata": {},
   "source": [
    "<div style=\"font-family: 'Inconsolata'; font-size: 120%; color:Silver;\">\n",
    "\n"
   ]
  },
  {
   "cell_type": "markdown",
   "metadata": {},
   "source": [
    "<div style=\"font-family: 'Inconsolata'; font-size: 120%; color:Silver;\">\n",
    "\n"
   ]
  },
  {
   "cell_type": "markdown",
   "metadata": {},
   "source": [
    "<div style=\"font-family: 'Inconsolata'; font-size: 120%; color:Silver;\">\n",
    "\n"
   ]
  },
  {
   "cell_type": "markdown",
   "metadata": {},
   "source": [
    "<div style=\"font-family: 'Inconsolata'; font-size: 120%; color:Silver;\">\n",
    "\n"
   ]
  },
  {
   "cell_type": "markdown",
   "metadata": {},
   "source": [
    "<div style=\"font-family: 'Inconsolata'; font-size: 120%; color:Silver;\">\n",
    "\n"
   ]
  },
  {
   "cell_type": "markdown",
   "metadata": {},
   "source": [
    "<div style=\"font-family: 'Inconsolata'; font-size: 120%; color:Silver;\">"
   ]
  }
 ],
 "metadata": {
  "kernelspec": {
   "display_name": "Python 3",
   "language": "python",
   "name": "python3"
  },
  "language_info": {
   "codemirror_mode": {
    "name": "ipython",
    "version": 3
   },
   "file_extension": ".py",
   "mimetype": "text/x-python",
   "name": "python",
   "nbconvert_exporter": "python",
   "pygments_lexer": "ipython3",
   "version": "3.13.0"
  }
 },
 "nbformat": 4,
 "nbformat_minor": 2
}
